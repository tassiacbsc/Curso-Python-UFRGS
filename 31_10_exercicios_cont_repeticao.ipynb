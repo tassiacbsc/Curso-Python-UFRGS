{
 "cells": [
  {
   "cell_type": "markdown",
   "id": "8fb88606",
   "metadata": {},
   "source": [
    "## Lista de Exercícios - Estrutura de controle repetição\n",
    "Itens 3 a 10\n",
    "Autora: Tássia Carrozzino\n",
    "Data: 07/11/2022"
   ]
  },
  {
   "cell_type": "code",
   "execution_count": null,
   "id": "090e9e10",
   "metadata": {},
   "outputs": [],
   "source": [
    "#Item 3 - leia cinco números e imprima na tela o quadrado de cada um deles.\n",
    "\n",
    "i = 0\n",
    "while i<5:\n",
    "    n = int(input(\"Digite um número e será apresentado o valor dele ao quadrado. \"))\n",
    "    print(n**2)\n",
    "    i = i + 1\n",
    "    if i==5:\n",
    "        break\n",
    "   \n"
   ]
  },
  {
   "cell_type": "code",
   "execution_count": 12,
   "id": "68468fa5",
   "metadata": {},
   "outputs": [
    {
     "name": "stdout",
     "output_type": "stream",
     "text": [
      "2\n",
      "4\n",
      "6\n",
      "8\n",
      "10\n",
      "12\n",
      "14\n",
      "16\n",
      "18\n"
     ]
    }
   ],
   "source": [
    "#Item 4 - Imprima na tela todos os números pares entre 0 e 20.\n",
    "i= 0\n",
    "while i<20:\n",
    "    print(i+2)\n",
    "    i = i+2\n",
    "    if i==18:\n",
    "        break    "
   ]
  },
  {
   "cell_type": "code",
   "execution_count": 9,
   "id": "7719c296",
   "metadata": {},
   "outputs": [
    {
     "name": "stdout",
     "output_type": "stream",
     "text": [
      "Digite a razão da progressão aritmética. 4\n",
      "Digite o primeiro termo da progressão aritmética. 10\n",
      "10.0\n",
      "14.0\n",
      "18.0\n",
      "22.0\n",
      "26.0\n",
      "30.0\n",
      "34.0\n",
      "38.0\n",
      "42.0\n",
      "46.0\n"
     ]
    }
   ],
   "source": [
    "#Item 5 - Imprima na tela os 10 primeiros termos de uma progressão aritmética cuja razão é dada\n",
    "#pelo usuário.\n",
    "razao = float(input(\"Digite a razão da progressão aritmética. \"))\n",
    "n1 = float(input(\"Digite o primeiro termo da progressão aritmética. \"))\n",
    "n10 = n1+ (10-1)*razao\n",
    "i=n1\n",
    "while n1<=n10:\n",
    "    print(n1)\n",
    "    n1 = n1+razao\n",
    "\n"
   ]
  },
  {
   "cell_type": "code",
   "execution_count": 11,
   "id": "984d2050",
   "metadata": {},
   "outputs": [
    {
     "name": "stdout",
     "output_type": "stream",
     "text": [
      "1\n",
      "2\n",
      "3\n",
      "4\n",
      "5\n",
      "6\n",
      "7\n",
      "8\n",
      "9\n",
      "10\n",
      "11\n",
      "12\n",
      "13\n",
      "14\n",
      "15\n",
      "16\n",
      "17\n",
      "18\n",
      "19\n",
      "20\n",
      "21\n",
      "22\n",
      "23\n",
      "24\n",
      "25\n",
      "26\n",
      "27\n",
      "28\n",
      "29\n",
      "30\n",
      "31\n",
      "32\n",
      "33\n",
      "34\n",
      "35\n",
      "36\n",
      "37\n",
      "38\n",
      "39\n",
      "40\n",
      "41\n",
      "42\n",
      "43\n",
      "44\n",
      "45\n",
      "46\n",
      "47\n",
      "48\n",
      "49\n",
      "50\n",
      "51\n",
      "52\n",
      "53\n",
      "54\n",
      "55\n",
      "56\n",
      "57\n",
      "58\n",
      "59\n",
      "60\n",
      "61\n",
      "62\n",
      "63\n",
      "64\n",
      "65\n",
      "66\n",
      "67\n",
      "68\n",
      "69\n",
      "70\n",
      "71\n",
      "72\n",
      "73\n",
      "74\n",
      "75\n",
      "76\n",
      "77\n",
      "78\n",
      "79\n",
      "80\n",
      "81\n",
      "82\n",
      "83\n",
      "84\n",
      "85\n",
      "86\n",
      "87\n",
      "88\n",
      "89\n",
      "90\n",
      "91\n",
      "92\n",
      "93\n",
      "94\n",
      "95\n",
      "96\n",
      "97\n",
      "98\n",
      "99\n",
      "100\n"
     ]
    }
   ],
   "source": [
    "#Item 6 - Imprima na tela todos os números de 1 a 100.\n",
    "i=1\n",
    "while i<=100:\n",
    "    print(i)\n",
    "    i+=1"
   ]
  },
  {
   "cell_type": "code",
   "execution_count": 35,
   "id": "bf02d0cd",
   "metadata": {},
   "outputs": [
    {
     "name": "stdout",
     "output_type": "stream",
     "text": [
      "2\n",
      "4\n",
      "6\n",
      "8\n",
      "10\n",
      "12\n",
      "14\n",
      "16\n",
      "18\n",
      "20\n",
      "22\n",
      "24\n",
      "26\n",
      "28\n",
      "30\n",
      "32\n",
      "34\n",
      "36\n",
      "38\n",
      "40\n",
      "42\n",
      "44\n",
      "46\n",
      "48\n",
      "50\n",
      "52\n",
      "54\n",
      "56\n",
      "58\n",
      "60\n",
      "62\n",
      "64\n",
      "66\n",
      "68\n",
      "70\n",
      "72\n",
      "74\n",
      "76\n",
      "78\n",
      "80\n",
      "82\n",
      "84\n",
      "86\n",
      "88\n",
      "90\n",
      "92\n",
      "94\n",
      "96\n",
      "98\n"
     ]
    }
   ],
   "source": [
    "#Item 7 -  Imprima na tela todos os números pares de 0 a 100.\n",
    "i=0\n",
    "while i<100:\n",
    "    print(i+2)\n",
    "    i+=2\n",
    "    if i==98:\n",
    "        break    "
   ]
  },
  {
   "cell_type": "code",
   "execution_count": 22,
   "id": "d97d2e12",
   "metadata": {},
   "outputs": [
    {
     "name": "stdout",
     "output_type": "stream",
     "text": [
      "5050\n"
     ]
    }
   ],
   "source": [
    "#Item 8 - Imprima na tela a soma dos números de 1 a 100.\n",
    "cont = 1\n",
    "soma = 0\n",
    "while cont<=100:\n",
    "    soma = soma + cont\n",
    "    cont = cont +1\n",
    "print(soma)\n",
    "    "
   ]
  },
  {
   "cell_type": "code",
   "execution_count": 31,
   "id": "9e1ca6c5",
   "metadata": {},
   "outputs": [
    {
     "name": "stdout",
     "output_type": "stream",
     "text": [
      "Digite um número9\n",
      "\n",
      "O cubo do número 9 é 729 e a raiz cúbica dele é 3.0\n",
      "Digite um número4\n",
      "\n",
      "O cubo do número 4 é 64 e a raiz cúbica dele é 1.3333333333333333\n",
      "Digite um número66\n",
      "\n",
      "O cubo do número 66 é 287496 e a raiz cúbica dele é 22.0\n",
      "Digite um número100\n",
      "\n",
      "O cubo do número 100 é 1000000 e a raiz cúbica dele é 33.333333333333336\n",
      "Digite um número54\n",
      "\n",
      "O cubo do número 54 é 157464 e a raiz cúbica dele é 18.0\n",
      "Digite um número118\n",
      "\n",
      "O cubo do número 118 é 1643032 e a raiz cúbica dele é 39.333333333333336\n"
     ]
    }
   ],
   "source": [
    "#Item 9 - leia 6 números e imprima o cubo e a raiz cúbica de cada um deles.\n",
    "cont = 0\n",
    "while cont<6:\n",
    "    num = int(input(\"Digite um número\"))\n",
    "    print(f\"\\nO cubo do número {num} é {num**3} e a raiz cúbica dele é {num**1/3}\")\n",
    "    cont = cont +1\n",
    "    if cont==7:\n",
    "        break\n",
    "   "
   ]
  },
  {
   "cell_type": "code",
   "execution_count": 37,
   "id": "a8e85fb5",
   "metadata": {},
   "outputs": [
    {
     "name": "stdout",
     "output_type": "stream",
     "text": [
      "Digite um número. 2\n",
      "Digite um número. 8\n",
      "A potência é igual a 256.0.\n"
     ]
    }
   ],
   "source": [
    "#Item 10 - leia dois números a e b e calcule a potência a**b\n",
    "a = float(input(\"Digite um número. \"))\n",
    "b = float(input(\"Digite um número. \"))\n",
    "potencia = a**b\n",
    "print(f\"A potência é igual a {potencia}.\")"
   ]
  }
 ],
 "metadata": {
  "kernelspec": {
   "display_name": "Python 3 (ipykernel)",
   "language": "python",
   "name": "python3"
  },
  "language_info": {
   "codemirror_mode": {
    "name": "ipython",
    "version": 3
   },
   "file_extension": ".py",
   "mimetype": "text/x-python",
   "name": "python",
   "nbconvert_exporter": "python",
   "pygments_lexer": "ipython3",
   "version": "3.9.13"
  }
 },
 "nbformat": 4,
 "nbformat_minor": 5
}
