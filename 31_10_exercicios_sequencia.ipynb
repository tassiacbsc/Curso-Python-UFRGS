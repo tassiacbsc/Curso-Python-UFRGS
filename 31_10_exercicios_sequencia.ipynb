{
 "cells": [
  {
   "cell_type": "markdown",
   "id": "92e0e337",
   "metadata": {},
   "source": [
    "## Lista de Exercícios - Estrutura de controle de sequência\n",
    "\n",
    "Itens 1 a 10\n",
    "Autora: Tássia Carrozzino\n",
    "Data: 04/11/2022"
   ]
  },
  {
   "cell_type": "code",
   "execution_count": 1,
   "id": "383a1660",
   "metadata": {},
   "outputs": [
    {
     "name": "stdout",
     "output_type": "stream",
     "text": [
      "Hello World\n"
     ]
    }
   ],
   "source": [
    "#Item 1 - Imprima a frase \"Hello World\"\n",
    "\n",
    "print(\"Hello World\")"
   ]
  },
  {
   "cell_type": "code",
   "execution_count": 17,
   "id": "5d398329",
   "metadata": {},
   "outputs": [
    {
     "name": "stdout",
     "output_type": "stream",
     "text": [
      "O resultado da soma é igual a 5.\n"
     ]
    }
   ],
   "source": [
    "#Item 2 - Armazene os números 2 e 3, calcule a sua soma e imprima na tela o resultado.\n",
    "#Entrada\n",
    "num1=2\n",
    "num2=3\n",
    "#Processamento\n",
    "soma1 = num1 + num2\n",
    "#Saída\n",
    "print(f\"O resultado da soma é igual a {soma1}.\")\n"
   ]
  },
  {
   "cell_type": "code",
   "execution_count": 10,
   "id": "a9348102",
   "metadata": {},
   "outputs": [
    {
     "name": "stdout",
     "output_type": "stream",
     "text": [
      "Digite o primeiro número.8\n",
      "Digite o segundo número.7\n",
      "O resultado é igual a 15.\n"
     ]
    }
   ],
   "source": [
    "#Item 3 - Leia dois números do teclado, calcule a sua soma e imprima na tela seu resultado.\n",
    "#Entrada\n",
    "x = int(input(\"Digite o primeiro número.\"))\n",
    "y = int(input(\"Digite o segundo número.\"))\n",
    "#Processamento\n",
    "soma_2 = x + y\n",
    "#Saída\n",
    "print(f\"O resultado é igual a {soma_2}.\")"
   ]
  },
  {
   "cell_type": "code",
   "execution_count": 11,
   "id": "ce7804a2",
   "metadata": {},
   "outputs": [
    {
     "name": "stdout",
     "output_type": "stream",
     "text": [
      "Qual é o seu nome?Tássia\n",
      "Oi, Tássia.\n"
     ]
    }
   ],
   "source": [
    "#Item 4 - Pergunte o nome do usuário e apresente a mensagem ”Oi,...”, seguida pelo nome do usuário\n",
    "#Entrada e Processamento\n",
    "nome = input(\"Qual é o seu nome?\")\n",
    "#Saída\n",
    "print(f\"Oi, {nome}.\")"
   ]
  },
  {
   "cell_type": "code",
   "execution_count": 16,
   "id": "1b00e917",
   "metadata": {},
   "outputs": [
    {
     "name": "stdout",
     "output_type": "stream",
     "text": [
      "Quantas horas você trabalhou neste mês?30\n",
      "O salário bruto do professor será R$ 1200. Descontando o valor do imposto de R$ 360.0, o salário líquido será de R$ 840.0.\n"
     ]
    }
   ],
   "source": [
    "#Item 5 -  Calcule o salário de um professor horista na Universidade XYZ.\n",
    "#Entrada\n",
    "hora_aula = 40\n",
    "hora_mes = int(input(\"Quantas horas você trabalhou neste mês?\"))\n",
    "#Processamento\n",
    "sbruto = hora_aula * hora_mes\n",
    "desconto = sbruto*0.3\n",
    "sliquido = sbruto - desconto\n",
    "#Saída\n",
    "print(f\"O salário bruto do professor será R$ {sbruto}. Descontando o valor do imposto de R$ {desconto}, o salário líquido será de R$ {sliquido}.\")"
   ]
  },
  {
   "cell_type": "code",
   "execution_count": 22,
   "id": "9283da75",
   "metadata": {},
   "outputs": [
    {
     "name": "stdout",
     "output_type": "stream",
     "text": [
      "Digite o número de termos da PA. 5\n",
      "Digite o primeiro termo da PA. 6\n",
      "Digite a razão da PA. 4\n",
      "22\n",
      "70.0\n"
     ]
    }
   ],
   "source": [
    "#Item 6 - Determine o n-ésimo termo e a soma dos termos de uma progressão aritmética.\n",
    "#Entrada\n",
    "n = int(input(\"Digite o número de termos da PA. \"))\n",
    "a1 = int(input(\"Digite o primeiro termo da PA. \"))\n",
    "r = int(input(\"Digite a razão da PA. \"))\n",
    "#Processamento\n",
    "#determinar n-ésimo termo (fórmula termo geral da PA)\n",
    "an = a1 + (n-1) * r\n",
    "#soma dos termos da PA\n",
    "somaPA = (a1 + an)*n/2\n",
    "#Saída\n",
    "print(an)\n",
    "print(somaPA)"
   ]
  },
  {
   "cell_type": "code",
   "execution_count": 23,
   "id": "c3e5c8ad",
   "metadata": {},
   "outputs": [
    {
     "name": "stdout",
     "output_type": "stream",
     "text": [
      "Digite o número de termos da PG. 5\n",
      "Digite o primeiro termo da PG. 6\n",
      "Digite o quociente da PG. 4\n",
      "1536\n",
      "2046.0\n"
     ]
    }
   ],
   "source": [
    "#Item 7 - Determine o n-ésimo termo e a soma dos termos de uma progressão geométrica.\n",
    "#Entrada\n",
    "n_pg = int(input(\"Digite o número de termos da PG. \"))\n",
    "n1_pg = int(input(\"Digite o primeiro termo da PG. \"))\n",
    "q = int(input(\"Digite o quociente da PG. \"))\n",
    "#Processamento\n",
    "#determinar n-ésimo termo (fórmula termo geral da PG)\n",
    "an_geo = n1_pg * q**(n_pg-1)\n",
    "#soma dos termos da PG\n",
    "somaPG = (n1_pg *(q**n_pg-1))/(q-1)\n",
    "#Saída\n",
    "print(an_geo)\n",
    "print(somaPG)"
   ]
  },
  {
   "cell_type": "code",
   "execution_count": 3,
   "id": "055f6b45",
   "metadata": {},
   "outputs": [],
   "source": [
    "#Item 8 - Resolva a equação linear a.x = b\n"
   ]
  },
  {
   "cell_type": "code",
   "execution_count": null,
   "id": "75c69671",
   "metadata": {},
   "outputs": [],
   "source": [
    "#Item 9 - Resolva uma equação de segundo grau.\n",
    "#Entrada\n",
    "#Processamento\n",
    "#Saída"
   ]
  },
  {
   "cell_type": "code",
   "execution_count": 25,
   "id": "f2c92aa5",
   "metadata": {},
   "outputs": [
    {
     "name": "stdout",
     "output_type": "stream",
     "text": [
      "Digite o valor do capital. 5000\n",
      "Digite o prazo de investimento. 5\n",
      "Digite a taxa de juros. 6.5\n",
      "167500.0\n"
     ]
    }
   ],
   "source": [
    "#Item 10 - solicite o valor de um capital, o prazo de investimento, a taxa de juros, calcule e imprima\n",
    "#na tela o valor capitalizado.\n",
    "#Entrada\n",
    "capital = float(input(\"Digite o valor do capital. \"))\n",
    "prazo = float(input(\"Digite o prazo de investimento. \"))\n",
    "taxa_juros = float(input(\"Digite a taxa de juros. \"))\n",
    "#Processamento\n",
    "capitalizado = capital + (capital*taxa_juros*prazo)\n",
    "#Saída\n",
    "print(capitalizado)"
   ]
  },
  {
   "cell_type": "code",
   "execution_count": 26,
   "id": "70d8ab15",
   "metadata": {},
   "outputs": [
    {
     "name": "stdout",
     "output_type": "stream",
     "text": [
      "Digite o primeiro valor. 5\n",
      "Digite o segundo valor. 6\n",
      "Digite o terceiro valor. 7\n",
      "Digite o quarto valor. 4\n",
      "5.5\n"
     ]
    }
   ],
   "source": [
    "#Item 11 - Calcule a média aritmética de quatro números fornecidos pelo usuário\n",
    "#Entrada\n",
    "m1 = int(input(\"Digite o primeiro valor. \"))\n",
    "m2 = int(input(\"Digite o segundo valor. \"))\n",
    "m3 = int(input(\"Digite o terceiro valor. \"))\n",
    "m4 = int(input(\"Digite o quarto valor. \"))\n",
    "#Processamento\n",
    "media = (m1+m2+m3+m4)/4\n",
    "#Saída\n",
    "print(media)"
   ]
  },
  {
   "cell_type": "code",
   "execution_count": 8,
   "id": "880d07e8",
   "metadata": {},
   "outputs": [
    {
     "name": "stdout",
     "output_type": "stream",
     "text": [
      "\n",
      "Digite um número. 56\n",
      "\n",
      "Digite um número. 4.5\n",
      "\n",
      "Digite um número. 12\n",
      "[4.5, 12.0, 56.0]\n"
     ]
    }
   ],
   "source": [
    "#Item 15 - Leia no teclado 3 números reais e os imprima na tela em ordem crescente.\n",
    "#Entrada\n",
    "n1 = float(input(\"\\nDigite um número. \"))\n",
    "n2 = float(input(\"\\nDigite um número. \"))\n",
    "n3 = float(input(\"\\nDigite um número. \"))\n",
    "lista = [n1,n2,n3]\n",
    "print(sorted(lista))"
   ]
  },
  {
   "cell_type": "code",
   "execution_count": null,
   "id": "4f7e11ec",
   "metadata": {},
   "outputs": [],
   "source": []
  }
 ],
 "metadata": {
  "kernelspec": {
   "display_name": "Python 3 (ipykernel)",
   "language": "python",
   "name": "python3"
  },
  "language_info": {
   "codemirror_mode": {
    "name": "ipython",
    "version": 3
   },
   "file_extension": ".py",
   "mimetype": "text/x-python",
   "name": "python",
   "nbconvert_exporter": "python",
   "pygments_lexer": "ipython3",
   "version": "3.9.13"
  }
 },
 "nbformat": 4,
 "nbformat_minor": 5
}
