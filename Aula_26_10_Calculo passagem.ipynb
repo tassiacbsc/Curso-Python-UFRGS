{
 "cells": [
  {
   "cell_type": "markdown",
   "id": "36c27d47",
   "metadata": {},
   "source": [
    "Programa: Cálculo do valor da passagem.\n",
    "Objetivo: Calcular o valor gasto com passagem de ônibus de um grupo de 20 pessoas, sabendo que o preço unitário da passagem é R$ 7,30.\n",
    "Autora: Tássia Carrozzino\n",
    "Data: 03/11/2022"
   ]
  },
  {
   "cell_type": "code",
   "execution_count": 4,
   "id": "3d375a7c",
   "metadata": {},
   "outputs": [],
   "source": [
    "#Entrada\n",
    "valor_unit = float(7.3)"
   ]
  },
  {
   "cell_type": "code",
   "execution_count": 9,
   "id": "6743fa46",
   "metadata": {},
   "outputs": [],
   "source": [
    "#Processamento\n",
    "total = float(20*valor_unit)"
   ]
  },
  {
   "cell_type": "code",
   "execution_count": 10,
   "id": "e77ca4e6",
   "metadata": {},
   "outputs": [
    {
     "name": "stdout",
     "output_type": "stream",
     "text": [
      "O valor total gasto com passagem para um grupo de 20 usuários é de R$ 146.0.\n"
     ]
    }
   ],
   "source": [
    "#Saída\n",
    "print(f\"O valor total gasto com passagem para um grupo de 20 usuários é de R$ {total}.\")"
   ]
  }
 ],
 "metadata": {
  "kernelspec": {
   "display_name": "Python 3 (ipykernel)",
   "language": "python",
   "name": "python3"
  },
  "language_info": {
   "codemirror_mode": {
    "name": "ipython",
    "version": 3
   },
   "file_extension": ".py",
   "mimetype": "text/x-python",
   "name": "python",
   "nbconvert_exporter": "python",
   "pygments_lexer": "ipython3",
   "version": "3.9.13"
  }
 },
 "nbformat": 4,
 "nbformat_minor": 5
}
