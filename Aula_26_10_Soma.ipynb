{
 "cells": [
  {
   "cell_type": "markdown",
   "id": "09992f98",
   "metadata": {},
   "source": [
    "## Programa: Soma\n",
    "Objetivo: Ler dois números inteiros, calcular a soma deles e imprimir o resultado na tela.\n",
    "Autora: Tássia Carrozzino\n",
    "Data: 03/11/2022"
   ]
  },
  {
   "cell_type": "code",
   "execution_count": 15,
   "id": "7778f66c",
   "metadata": {},
   "outputs": [
    {
     "name": "stdout",
     "output_type": "stream",
     "text": [
      "Digite a primeira parcela: 26\n",
      "Digite a segunda parcela: 59\n"
     ]
    }
   ],
   "source": [
    "#Entrada\n",
    "x = int(input(\"Digite a primeira parcela: \"))\n",
    "y = int(input(\"Digite a segunda parcela: \"))"
   ]
  },
  {
   "cell_type": "code",
   "execution_count": 16,
   "id": "9fcc18c5",
   "metadata": {},
   "outputs": [],
   "source": [
    "#Processamento\n",
    "soma = x+y"
   ]
  },
  {
   "cell_type": "code",
   "execution_count": 17,
   "id": "a6388009",
   "metadata": {},
   "outputs": [
    {
     "name": "stdout",
     "output_type": "stream",
     "text": [
      "A soma das parcelas 26 e 59 é igual a 85.\n"
     ]
    }
   ],
   "source": [
    "#Saída\n",
    "print(f\"A soma das parcelas {x} e {y} é igual a {soma}.\")"
   ]
  }
 ],
 "metadata": {
  "kernelspec": {
   "display_name": "Python 3 (ipykernel)",
   "language": "python",
   "name": "python3"
  },
  "language_info": {
   "codemirror_mode": {
    "name": "ipython",
    "version": 3
   },
   "file_extension": ".py",
   "mimetype": "text/x-python",
   "name": "python",
   "nbconvert_exporter": "python",
   "pygments_lexer": "ipython3",
   "version": "3.9.13"
  }
 },
 "nbformat": 4,
 "nbformat_minor": 5
}
