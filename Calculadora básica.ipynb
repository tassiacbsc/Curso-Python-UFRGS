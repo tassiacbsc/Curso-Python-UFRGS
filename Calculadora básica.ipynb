{
 "cells": [
  {
   "cell_type": "markdown",
   "id": "1fb04426",
   "metadata": {},
   "source": [
    "## Aula 14/11 - Calculadora básica (Curso Extensão UFRGS)\n",
    "\n",
    "Requisitos: Faça um programa de terminal que leia dois números digitados pelo usuário e a operação desejada entre (adição, subtração, multiplicação e divisão) e coloque o resultado na tela.\n",
    "\n",
    "Autora: Tássia\n",
    "Data: 18/11/2022"
   ]
  },
  {
   "cell_type": "code",
   "execution_count": 24,
   "id": "1247de59",
   "metadata": {},
   "outputs": [],
   "source": [
    "#Entrada\n",
    "\n",
    "def escolha():\n",
    "    print(\"\\nDigite o número correspondente para escolher uma das seguintes operações matemáticas: \\n1-Soma\\n2-Subtração\\n3-Multiplicação\\n4-Divisão\")\n",
    "    operacao = int(input(\"\\nDigite um número de 1 a 4. \"))\n",
    "    if operacao <=0 or operacao > 4:\n",
    "        print(\"\\nO código é inválido\")\n",
    "    else:\n",
    "        return operacao    "
   ]
  },
  {
   "cell_type": "code",
   "execution_count": 25,
   "id": "8bd42d50",
   "metadata": {},
   "outputs": [],
   "source": [
    "##Entrada\n",
    "#Definição da função entrada - usuário digita dois números.\n",
    "\n",
    "def entrada():\n",
    "    i=0\n",
    "    numeros = []\n",
    "    while i < 2:\n",
    "        num = float(input(\"\\nDigite um número. \"))\n",
    "        numeros.append(num)\n",
    "        i += 1\n",
    "    return numeros"
   ]
  },
  {
   "cell_type": "code",
   "execution_count": 26,
   "id": "29301bf3",
   "metadata": {},
   "outputs": [],
   "source": [
    "def main():\n",
    "    opcao = escolha()\n",
    "    numeros = entrada()\n",
    "    if opcao == 1:\n",
    "        resultado = numeros[0] + numeros[1]\n",
    "    elif opcao == 2:\n",
    "        resultado = numeros[0]-numeros[1]\n",
    "    elif opcao == 3:\n",
    "        resultado = numeros[0] * numeros[1]\n",
    "    elif opcao == 4:\n",
    "        if numeros[1] == 0:\n",
    "            print(\"\\nNão existe divisão por zero. \")\n",
    "        else:\n",
    "            resultado = numeros[0] / numeros[1]\n",
    "    else:\n",
    "        print(\"\\nO código digitado é inválido. \")\n",
    "    print(f\"\\nO resultado da operação é igual a {resultado}. \") "
   ]
  },
  {
   "cell_type": "code",
   "execution_count": 28,
   "id": "03e7e187",
   "metadata": {},
   "outputs": [
    {
     "name": "stdout",
     "output_type": "stream",
     "text": [
      "\n",
      "Digite o número correspondente para escolher uma das seguintes operações matemáticas: \n",
      "1-Soma\n",
      "2-Subtração\n",
      "3-Multiplicação\n",
      "4-Divisão\n",
      "\n",
      "Digite um número de 1 a 4. 2\n",
      "\n",
      "Digite um número. 30\n",
      "\n",
      "Digite um número. 20\n",
      "\n",
      "O resultado da operação é igual a 10.0. \n"
     ]
    }
   ],
   "source": [
    "main()"
   ]
  }
 ],
 "metadata": {
  "kernelspec": {
   "display_name": "Python 3 (ipykernel)",
   "language": "python",
   "name": "python3"
  },
  "language_info": {
   "codemirror_mode": {
    "name": "ipython",
    "version": 3
   },
   "file_extension": ".py",
   "mimetype": "text/x-python",
   "name": "python",
   "nbconvert_exporter": "python",
   "pygments_lexer": "ipython3",
   "version": "3.9.13"
  }
 },
 "nbformat": 4,
 "nbformat_minor": 5
}
