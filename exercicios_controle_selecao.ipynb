{
 "cells": [
  {
   "cell_type": "markdown",
   "id": "abcfb315",
   "metadata": {},
   "source": [
    "## Lista Exercícios - Estrutura de controle seleção (item 2)\n",
    "Autora: Tássia Carrozzino\n",
    "Data: 09/11/2022"
   ]
  },
  {
   "cell_type": "code",
   "execution_count": null,
   "id": "546494ed",
   "metadata": {},
   "outputs": [],
   "source": [
    "\"\"\"\"Item 1 - Leia um número e imprima na tela o seu dobro se ele for menor do que 10. Se o número\n",
    "for de 10 até 20, imprima a sua metade. Em qualquer outro caso, imprima na tela que o\n",
    "número não é válido.\"\"\"\n",
    "\n",
    "#Entrada\n",
    "num = int(input(\"Digite um número. \"))\n",
    "\n",
    "#Processamento e saída\n",
    "if num<10:\n",
    "    print(2*num)\n",
    "elif num>=10 and num<=20:\n",
    "    print(num/2)\n",
    "else:\n",
    "    print(\"O número não é válido.\")"
   ]
  },
  {
   "cell_type": "code",
   "execution_count": 27,
   "id": "88b49bfa",
   "metadata": {},
   "outputs": [
    {
     "name": "stdout",
     "output_type": "stream",
     "text": [
      "Digite um número. 16.4\n",
      "O número não é válido\n"
     ]
    }
   ],
   "source": [
    "\"\"\" Item 2 - Leia um número e imprima na tela a mensagem ”O número é par.”se o número lido for\n",
    "par e ”O número é impar” se o número lido for ímpar. Em caso de número não inteiros \n",
    "ou negativos, imprima na tela ”Este número não é válido.” \"\"\"\n",
    "\n",
    "num = float(input(\"Digite um número. \"))\n",
    "if num<0:\n",
    "    print(\"Este número não é válido\")\n",
    "else:\n",
    "    if (num%2) == 0:\n",
    "        print(\"O número é par\")\n",
    "    elif (num%2) ==1:\n",
    "        print(\"O número é ímpar\")\n",
    "    else:\n",
    "        print(\"O número não é válido\")"
   ]
  },
  {
   "cell_type": "code",
   "execution_count": 32,
   "id": "b624a4b8",
   "metadata": {},
   "outputs": [
    {
     "name": "stdout",
     "output_type": "stream",
     "text": [
      "Digite um número. 24\n",
      "Este número é múltiplo de 3\n"
     ]
    }
   ],
   "source": [
    "\"\"\"Item 3 -  Leia um número, determine se ele é múltiplo de 3 e imprima na tela a mensagem ”Este\n",
    "número é múltiplo de 3”ou ”Este número não é múltiplo de 3”a depender do caso.\"\"\"\n",
    "\n",
    "num = int(input(\"Digite um número. \"))\n",
    "if (num%3)==0:\n",
    "    print(\"Este número é múltiplo de 3\")\n",
    "else:\n",
    "    print(\"Este número não é múltiplo de 3\")"
   ]
  },
  {
   "cell_type": "code",
   "execution_count": 35,
   "id": "e0aa8e24",
   "metadata": {},
   "outputs": [
    {
     "name": "stdout",
     "output_type": "stream",
     "text": [
      "\n",
      "Digite o seu nome. Francisco\n",
      "\n",
      "Digite a sua idade. 3\n",
      "Francisco não pode assistir a este filme.\n"
     ]
    }
   ],
   "source": [
    "\"\"\"Item 4 - Leia o nome e a idade de uma pessoa. Se a pessoa tiver menos de 18 anos, imprimir\n",
    "”[nome] não pode assistir a este filme.” onde no lugar de [nome] deve sair o nome lido do\n",
    "teclado.\"\"\"\n",
    "\n",
    "nome = input(\"\\nDigite o seu nome. \")\n",
    "idade = int(input(\"\\nDigite a sua idade. \"))\n",
    "if idade<18:\n",
    "    print(f\"{nome} não pode assistir a este filme.\")"
   ]
  },
  {
   "cell_type": "code",
   "execution_count": 38,
   "id": "140f7798",
   "metadata": {},
   "outputs": [
    {
     "name": "stdout",
     "output_type": "stream",
     "text": [
      "Digite um número. -5\n",
      "Este número é negativo.\n"
     ]
    }
   ],
   "source": [
    "#Item 5 - Leia um número e imprima na tela se ele é negativo, nulo ou positivo.\n",
    "\n",
    "num = int(input(\"Digite um número. \"))\n",
    "if num<0:\n",
    "    print(\"Este número é negativo.\")\n",
    "elif num==0:\n",
    "    print(\"Este número é nulo. \")\n",
    "else:\n",
    "    print(\"Este número é positivo.\")"
   ]
  },
  {
   "cell_type": "code",
   "execution_count": 51,
   "id": "82849e4d",
   "metadata": {},
   "outputs": [
    {
     "name": "stdout",
     "output_type": "stream",
     "text": [
      "Digite o nome de uma capital do Brasil. Curitiba\n",
      "Curitiba é uma capital do Sul do Brasil.\n"
     ]
    }
   ],
   "source": [
    "# Item 6 - leia um texto e informe se ele é o nome da capital de um estado da região sul do Brasil.\n",
    "\n",
    "capital_sul = ['Curitiba','Florianópolis','Porto Alegre']\n",
    "capital = input(\"Digite o nome de uma capital do Brasil. \")\n",
    "if capital in capital_sul:\n",
    "    print(f\"{capital} é uma capital do Sul do Brasil.\")"
   ]
  },
  {
   "cell_type": "code",
   "execution_count": 55,
   "id": "0e31c6be",
   "metadata": {},
   "outputs": [
    {
     "name": "stdout",
     "output_type": "stream",
     "text": [
      "Digite a sua nota. 5\n",
      "Digite a sua nota. 6\n",
      "Digite a sua nota. 5\n",
      "Digite a sua nota. 6\n",
      "Você está de recuperação\n"
     ]
    }
   ],
   "source": [
    "\"\"\"Item 8 - solicite as notas de um aluno nas avaliações previstas no plano de ensino desta disciplina,\n",
    "calcule a sua média e informe se o aluno está aprovado ou reprovado com base nas notas\n",
    "obtidas, incluindo a recuperação. Use este programa para avaliar seu próprio desempenho\n",
    "na disciplina.\"\"\"\n",
    "\n",
    "#Entrada\n",
    "cont=0\n",
    "soma = 0\n",
    "while cont<4:\n",
    "    nota = float(input(\"Digite a sua nota. \"))\n",
    "    soma = soma + nota\n",
    "    cont+=1\n",
    "media = soma/4\n",
    "if media<5:\n",
    "    print(\"Você está reprovado\")\n",
    "elif media>=5 and media<6:\n",
    "    print(\"Você está de recuperação\")\n",
    "else:\n",
    "    print(\"Você está aprovado\")"
   ]
  },
  {
   "cell_type": "code",
   "execution_count": 67,
   "id": "782c752b",
   "metadata": {},
   "outputs": [
    {
     "name": "stdout",
     "output_type": "stream",
     "text": [
      "Digite seu peso. 64\n",
      "Digite sua altura. 1.63\n",
      "peso normal\n"
     ]
    }
   ],
   "source": [
    " \"\"\"Item 9 - Leia o peso e a altura de uma pessoa, calcule seu índice de massa corporal (IMC), classifique\n",
    "essa pessoa de acordo com a tabela abaixo e escreva na tela a condição da pessoa:\"\"\"\n",
    "\n",
    "peso = float(input(\"Digite seu peso. \"))\n",
    "altura = float(input(\"Digite sua altura. \"))\n",
    "imc = peso/altura**2\n",
    "if imc<18.5:\n",
    "    print(\"excessivamente magro\")\n",
    "elif imc>18.5 and imc<=25:\n",
    "    print(\"peso normal\")\n",
    "elif imc>25 and imc<=30:\n",
    "    print(\"sobrepeso\")\n",
    "else:\n",
    "    print(\"obeso\")"
   ]
  },
  {
   "cell_type": "code",
   "execution_count": 79,
   "id": "857907e9",
   "metadata": {},
   "outputs": [
    {
     "name": "stdout",
     "output_type": "stream",
     "text": [
      "Digite a quantidade de horas trabalhadas. 100\n",
      "O salário bruto é R$ 2000.\n",
      "O salário líquido é R$ 1800.0.\n"
     ]
    }
   ],
   "source": [
    "\"\"\"\"Item 10 - dado o número de horas trabalhadas por um empregado de uma empresa que paga R$\n",
    "20,00 por hora trabalhada e desconta imposto de renda (ir) segundo a tabela abaixo,\n",
    "determine o salário líquido do empregado.\"\"\"\n",
    "\n",
    "horas_trabalho = int(input(\"Digite a quantidade de horas trabalhadas. \"))\n",
    "s_bruto = horas_trabalho*20\n",
    "print(f\"O salário bruto é R$ {s_bruto}.\")\n",
    "if s_bruto<=1000:\n",
    "    print(f\"O salário líquido é R$ {s_bruto}.\")\n",
    "elif s_bruto>1000 and s_bruto<=2500:\n",
    "    print(f\"O salário líquido é R$ {0.9*s_bruto}.\")\n",
    "elif s_bruto>2500 and s_bruto<=5000:\n",
    "    print(f\"O salário líquido é R$ {0.8*s_bruto}.\")\n",
    "else:\n",
    "    print(f\"O salário líquido é R$ {0.65*s_bruto}.\")"
   ]
  }
 ],
 "metadata": {
  "kernelspec": {
   "display_name": "Python 3 (ipykernel)",
   "language": "python",
   "name": "python3"
  },
  "language_info": {
   "codemirror_mode": {
    "name": "ipython",
    "version": 3
   },
   "file_extension": ".py",
   "mimetype": "text/x-python",
   "name": "python",
   "nbconvert_exporter": "python",
   "pygments_lexer": "ipython3",
   "version": "3.9.13"
  }
 },
 "nbformat": 4,
 "nbformat_minor": 5
}
